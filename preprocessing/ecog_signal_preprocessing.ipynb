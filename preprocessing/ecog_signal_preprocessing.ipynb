{
 "cells": [
  {
   "cell_type": "markdown",
   "id": "fossil-quantum",
   "metadata": {},
   "source": [
    "#### Paradigm description:     \n",
    "Experimental set-up:  \n",
    "\n",
    "Gesture cue length : 2s  \n",
    "f/b Black screen (resting state) : 2-3s  \n",
    "  \n",
    "rock-paper-scissor cue : 30 trials each\n",
    "\n",
    "Sampling Frequency : 1200 Hz"
   ]
  },
  {
   "cell_type": "markdown",
   "id": "active-market",
   "metadata": {},
   "source": [
    "60-channel high-density ECoG grids (Unique\n",
    "Medical Co., Ltd.; diameter 1.5mm, spacing 5mm, geometry 6 ×\n",
    "10)"
   ]
  },
  {
   "cell_type": "code",
   "execution_count": 1,
   "id": "healthy-crack",
   "metadata": {},
   "outputs": [],
   "source": [
    "import pandas as pd\n",
    "import numpy as np\n",
    "import scipy.io\n",
    "\n",
    "import matplotlib\n",
    "matplotlib.use('Qt5Agg')\n",
    "import matplotlib.pyplot as plt\n",
    "\n",
    "import seaborn as sns\n",
    "\n",
    "# !pip install mne\n",
    "import mne"
   ]
  },
  {
   "cell_type": "markdown",
   "id": "serious-spouse",
   "metadata": {},
   "source": [
    "<b> 1. Importing Data"
   ]
  },
  {
   "cell_type": "code",
   "execution_count": 2,
   "id": "burning-dividend",
   "metadata": {},
   "outputs": [
    {
     "data": {
      "text/html": [
       "<div>\n",
       "<style scoped>\n",
       "    .dataframe tbody tr th:only-of-type {\n",
       "        vertical-align: middle;\n",
       "    }\n",
       "\n",
       "    .dataframe tbody tr th {\n",
       "        vertical-align: top;\n",
       "    }\n",
       "\n",
       "    .dataframe thead th {\n",
       "        text-align: right;\n",
       "    }\n",
       "</style>\n",
       "<table border=\"1\" class=\"dataframe\">\n",
       "  <thead>\n",
       "    <tr style=\"text-align: right;\">\n",
       "      <th></th>\n",
       "      <th>sample_time</th>\n",
       "      <th>CH1</th>\n",
       "      <th>CH2</th>\n",
       "      <th>CH3</th>\n",
       "      <th>CH4</th>\n",
       "      <th>CH5</th>\n",
       "      <th>CH6</th>\n",
       "      <th>CH7</th>\n",
       "      <th>CH8</th>\n",
       "      <th>CH9</th>\n",
       "      <th>...</th>\n",
       "      <th>CH57</th>\n",
       "      <th>CH58</th>\n",
       "      <th>CH59</th>\n",
       "      <th>CH60</th>\n",
       "      <th>paradigm_info</th>\n",
       "      <th>data_glove_thumb</th>\n",
       "      <th>data_glove_index</th>\n",
       "      <th>data_glove_middle</th>\n",
       "      <th>data_glove_ring</th>\n",
       "      <th>data_glove_little</th>\n",
       "    </tr>\n",
       "  </thead>\n",
       "  <tbody>\n",
       "    <tr>\n",
       "      <th>0</th>\n",
       "      <td>0.000000</td>\n",
       "      <td>0.0</td>\n",
       "      <td>0.0</td>\n",
       "      <td>0.0</td>\n",
       "      <td>0.0</td>\n",
       "      <td>0.0</td>\n",
       "      <td>0.0</td>\n",
       "      <td>0.0</td>\n",
       "      <td>0.0</td>\n",
       "      <td>0.0</td>\n",
       "      <td>...</td>\n",
       "      <td>0.0</td>\n",
       "      <td>0.0</td>\n",
       "      <td>0.0</td>\n",
       "      <td>0.0</td>\n",
       "      <td>0.0</td>\n",
       "      <td>0.0</td>\n",
       "      <td>0.0</td>\n",
       "      <td>0.0</td>\n",
       "      <td>0.0</td>\n",
       "      <td>0.0</td>\n",
       "    </tr>\n",
       "    <tr>\n",
       "      <th>1</th>\n",
       "      <td>0.000833</td>\n",
       "      <td>0.0</td>\n",
       "      <td>0.0</td>\n",
       "      <td>0.0</td>\n",
       "      <td>0.0</td>\n",
       "      <td>0.0</td>\n",
       "      <td>0.0</td>\n",
       "      <td>0.0</td>\n",
       "      <td>0.0</td>\n",
       "      <td>0.0</td>\n",
       "      <td>...</td>\n",
       "      <td>0.0</td>\n",
       "      <td>0.0</td>\n",
       "      <td>0.0</td>\n",
       "      <td>0.0</td>\n",
       "      <td>0.0</td>\n",
       "      <td>0.0</td>\n",
       "      <td>0.0</td>\n",
       "      <td>0.0</td>\n",
       "      <td>0.0</td>\n",
       "      <td>0.0</td>\n",
       "    </tr>\n",
       "    <tr>\n",
       "      <th>2</th>\n",
       "      <td>0.001667</td>\n",
       "      <td>0.0</td>\n",
       "      <td>0.0</td>\n",
       "      <td>0.0</td>\n",
       "      <td>0.0</td>\n",
       "      <td>0.0</td>\n",
       "      <td>0.0</td>\n",
       "      <td>0.0</td>\n",
       "      <td>0.0</td>\n",
       "      <td>0.0</td>\n",
       "      <td>...</td>\n",
       "      <td>0.0</td>\n",
       "      <td>0.0</td>\n",
       "      <td>0.0</td>\n",
       "      <td>0.0</td>\n",
       "      <td>0.0</td>\n",
       "      <td>0.0</td>\n",
       "      <td>0.0</td>\n",
       "      <td>0.0</td>\n",
       "      <td>0.0</td>\n",
       "      <td>0.0</td>\n",
       "    </tr>\n",
       "    <tr>\n",
       "      <th>3</th>\n",
       "      <td>0.002500</td>\n",
       "      <td>0.0</td>\n",
       "      <td>0.0</td>\n",
       "      <td>0.0</td>\n",
       "      <td>0.0</td>\n",
       "      <td>0.0</td>\n",
       "      <td>0.0</td>\n",
       "      <td>0.0</td>\n",
       "      <td>0.0</td>\n",
       "      <td>0.0</td>\n",
       "      <td>...</td>\n",
       "      <td>0.0</td>\n",
       "      <td>0.0</td>\n",
       "      <td>0.0</td>\n",
       "      <td>0.0</td>\n",
       "      <td>0.0</td>\n",
       "      <td>0.0</td>\n",
       "      <td>0.0</td>\n",
       "      <td>0.0</td>\n",
       "      <td>0.0</td>\n",
       "      <td>0.0</td>\n",
       "    </tr>\n",
       "    <tr>\n",
       "      <th>4</th>\n",
       "      <td>0.003333</td>\n",
       "      <td>0.0</td>\n",
       "      <td>0.0</td>\n",
       "      <td>0.0</td>\n",
       "      <td>0.0</td>\n",
       "      <td>0.0</td>\n",
       "      <td>0.0</td>\n",
       "      <td>0.0</td>\n",
       "      <td>0.0</td>\n",
       "      <td>0.0</td>\n",
       "      <td>...</td>\n",
       "      <td>0.0</td>\n",
       "      <td>0.0</td>\n",
       "      <td>0.0</td>\n",
       "      <td>0.0</td>\n",
       "      <td>0.0</td>\n",
       "      <td>0.0</td>\n",
       "      <td>0.0</td>\n",
       "      <td>0.0</td>\n",
       "      <td>0.0</td>\n",
       "      <td>0.0</td>\n",
       "    </tr>\n",
       "  </tbody>\n",
       "</table>\n",
       "<p>5 rows × 67 columns</p>\n",
       "</div>"
      ],
      "text/plain": [
       "   sample_time  CH1  CH2  CH3  CH4  CH5  CH6  CH7  CH8  CH9  ...  CH57  CH58  \\\n",
       "0     0.000000  0.0  0.0  0.0  0.0  0.0  0.0  0.0  0.0  0.0  ...   0.0   0.0   \n",
       "1     0.000833  0.0  0.0  0.0  0.0  0.0  0.0  0.0  0.0  0.0  ...   0.0   0.0   \n",
       "2     0.001667  0.0  0.0  0.0  0.0  0.0  0.0  0.0  0.0  0.0  ...   0.0   0.0   \n",
       "3     0.002500  0.0  0.0  0.0  0.0  0.0  0.0  0.0  0.0  0.0  ...   0.0   0.0   \n",
       "4     0.003333  0.0  0.0  0.0  0.0  0.0  0.0  0.0  0.0  0.0  ...   0.0   0.0   \n",
       "\n",
       "   CH59  CH60  paradigm_info  data_glove_thumb  data_glove_index  \\\n",
       "0   0.0   0.0            0.0               0.0               0.0   \n",
       "1   0.0   0.0            0.0               0.0               0.0   \n",
       "2   0.0   0.0            0.0               0.0               0.0   \n",
       "3   0.0   0.0            0.0               0.0               0.0   \n",
       "4   0.0   0.0            0.0               0.0               0.0   \n",
       "\n",
       "   data_glove_middle  data_glove_ring  data_glove_little  \n",
       "0                0.0              0.0                0.0  \n",
       "1                0.0              0.0                0.0  \n",
       "2                0.0              0.0                0.0  \n",
       "3                0.0              0.0                0.0  \n",
       "4                0.0              0.0                0.0  \n",
       "\n",
       "[5 rows x 67 columns]"
      ]
     },
     "execution_count": 2,
     "metadata": {},
     "output_type": "execute_result"
    }
   ],
   "source": [
    "mat = scipy.io.loadmat('ECoG_Handpose.mat')\n",
    "\n",
    "channels = [f'CH{i}' for i in range(1, 61)]\n",
    "glove_data=['data_glove_thumb','data_glove_index','data_glove_middle','data_glove_ring','data_glove_little']\n",
    "hand_gesture = ['paradigm_info']\n",
    "cols = ['sample_time']+channels+hand_gesture+glove_data\n",
    "\n",
    "ecog = pd.DataFrame.from_dict(mat['y'].T)\n",
    "ecog.columns=cols\n",
    "ecog.head()"
   ]
  },
  {
   "cell_type": "markdown",
   "id": "mobile-pennsylvania",
   "metadata": {},
   "source": [
    "<b> 2. Dropping initial non-experimental data"
   ]
  },
  {
   "cell_type": "code",
   "execution_count": 3,
   "id": "numeric-party",
   "metadata": {},
   "outputs": [],
   "source": [
    "exp_start = ecog[ecog['paradigm_info'].ne(0)].index[0]\n",
    "ecog.drop(index=list(range(0,exp_start-2400)),inplace=True)\n",
    "ecog.reset_index(inplace=True, drop=True)"
   ]
  },
  {
   "cell_type": "code",
   "execution_count": 4,
   "id": "upper-deadline",
   "metadata": {},
   "outputs": [
    {
     "name": "stdout",
     "output_type": "stream",
     "text": [
      "<class 'pandas.core.frame.DataFrame'>\n",
      "RangeIndex: 494929 entries, 0 to 494928\n",
      "Data columns (total 67 columns):\n",
      " #   Column             Non-Null Count   Dtype  \n",
      "---  ------             --------------   -----  \n",
      " 0   CH1                494929 non-null  float64\n",
      " 1   CH2                494929 non-null  float64\n",
      " 2   CH3                494929 non-null  float64\n",
      " 3   CH4                494929 non-null  float64\n",
      " 4   CH5                494929 non-null  float64\n",
      " 5   CH6                494929 non-null  float64\n",
      " 6   CH7                494929 non-null  float64\n",
      " 7   CH8                494929 non-null  float64\n",
      " 8   CH9                494929 non-null  float64\n",
      " 9   CH10               494929 non-null  float64\n",
      " 10  CH11               494929 non-null  float64\n",
      " 11  CH12               494929 non-null  float64\n",
      " 12  CH13               494929 non-null  float64\n",
      " 13  CH14               494929 non-null  float64\n",
      " 14  CH15               494929 non-null  float64\n",
      " 15  CH16               494929 non-null  float64\n",
      " 16  CH17               494929 non-null  float64\n",
      " 17  CH18               494929 non-null  float64\n",
      " 18  CH19               494929 non-null  float64\n",
      " 19  CH20               494929 non-null  float64\n",
      " 20  CH21               494929 non-null  float64\n",
      " 21  CH22               494929 non-null  float64\n",
      " 22  CH23               494929 non-null  float64\n",
      " 23  CH24               494929 non-null  float64\n",
      " 24  CH25               494929 non-null  float64\n",
      " 25  CH26               494929 non-null  float64\n",
      " 26  CH27               494929 non-null  float64\n",
      " 27  CH28               494929 non-null  float64\n",
      " 28  CH29               494929 non-null  float64\n",
      " 29  CH30               494929 non-null  float64\n",
      " 30  CH31               494929 non-null  float64\n",
      " 31  CH32               494929 non-null  float64\n",
      " 32  CH33               494929 non-null  float64\n",
      " 33  CH34               494929 non-null  float64\n",
      " 34  CH35               494929 non-null  float64\n",
      " 35  CH36               494929 non-null  float64\n",
      " 36  CH37               494929 non-null  float64\n",
      " 37  CH38               494929 non-null  float64\n",
      " 38  CH39               494929 non-null  float64\n",
      " 39  CH40               494929 non-null  float64\n",
      " 40  CH41               494929 non-null  float64\n",
      " 41  CH42               494929 non-null  float64\n",
      " 42  CH43               494929 non-null  float64\n",
      " 43  CH44               494929 non-null  float64\n",
      " 44  CH45               494929 non-null  float64\n",
      " 45  CH46               494929 non-null  float64\n",
      " 46  CH47               494929 non-null  float64\n",
      " 47  CH48               494929 non-null  float64\n",
      " 48  CH49               494929 non-null  float64\n",
      " 49  CH50               494929 non-null  float64\n",
      " 50  CH51               494929 non-null  float64\n",
      " 51  CH52               494929 non-null  float64\n",
      " 52  CH53               494929 non-null  float64\n",
      " 53  CH54               494929 non-null  float64\n",
      " 54  CH55               494929 non-null  float64\n",
      " 55  CH56               494929 non-null  float64\n",
      " 56  CH57               494929 non-null  float64\n",
      " 57  CH58               494929 non-null  float64\n",
      " 58  CH59               494929 non-null  float64\n",
      " 59  CH60               494929 non-null  float64\n",
      " 60  paradigm_info      494929 non-null  float64\n",
      " 61  data_glove_thumb   494929 non-null  float64\n",
      " 62  data_glove_index   494929 non-null  float64\n",
      " 63  data_glove_middle  494929 non-null  float64\n",
      " 64  data_glove_ring    494929 non-null  float64\n",
      " 65  data_glove_little  494929 non-null  float64\n",
      " 66  time               494929 non-null  float64\n",
      "dtypes: float64(67)\n",
      "memory usage: 253.0 MB\n"
     ]
    }
   ],
   "source": [
    "ecog['time'] = ecog.index / 1200\n",
    "ecog.drop(columns='sample_time', inplace=True)\n",
    "ecog.info()"
   ]
  },
  {
   "cell_type": "markdown",
   "id": "unlimited-disney",
   "metadata": {},
   "source": [
    "<b> 3. Creating mne info and raw data from ecog channels data"
   ]
  },
  {
   "cell_type": "code",
   "execution_count": 5,
   "id": "comfortable-cartoon",
   "metadata": {},
   "outputs": [
    {
     "name": "stderr",
     "output_type": "stream",
     "text": [
      "<ipython-input-5-346924feecd6>:5: RuntimeWarning: 4 channel names are too long, have been truncated to 15 characters:\n",
      "['data_glove_thumb', 'data_glove_index', 'data_glove_middle', 'data_glove_little']\n",
      "  sfreq=sampling_freq)\n"
     ]
    },
    {
     "name": "stdout",
     "output_type": "stream",
     "text": [
      "Creating RawArray with float64 data, n_channels=66, n_times=494929\n",
      "    Range : 0 ... 494928 =      0.000 ...   412.440 secs\n",
      "Ready.\n"
     ]
    },
    {
     "data": {
      "text/plain": [
       "<RawArray | 66 x 494929 (412.4 s), ~249.3 MB, data loaded>"
      ]
     },
     "execution_count": 5,
     "metadata": {},
     "output_type": "execute_result"
    }
   ],
   "source": [
    "sampling_freq = 1200\n",
    "\n",
    "info = mne.create_info(ch_names=channels+hand_gesture+glove_data,\n",
    "                       ch_types=['ecog'] * 60+['stim']+['emg']*5,\n",
    "                       sfreq=sampling_freq)\n",
    "\n",
    "data=ecog[channels+hand_gesture+glove_data].T\n",
    "\n",
    "raw = mne.io.RawArray(data, info)\n",
    "raw"
   ]
  },
  {
   "cell_type": "markdown",
   "id": "quiet-awareness",
   "metadata": {},
   "source": [
    "---- Extract events from stimulus data (experimental cues) and plotting"
   ]
  },
  {
   "cell_type": "code",
   "execution_count": 6,
   "id": "technical-terminology",
   "metadata": {},
   "outputs": [],
   "source": [
    "# plt.close()\n",
    "raw.copy().pick_types(emg=False, ecog=False, stim=True).plot(duration=200)\n",
    "plt.show(block=False)"
   ]
  },
  {
   "cell_type": "code",
   "execution_count": 7,
   "id": "seventh-lying",
   "metadata": {},
   "outputs": [
    {
     "name": "stdout",
     "output_type": "stream",
     "text": [
      "90 events found\n",
      "Event IDs: [1 2 3]\n"
     ]
    }
   ],
   "source": [
    "events = mne.find_events(raw)"
   ]
  },
  {
   "cell_type": "code",
   "execution_count": 8,
   "id": "ambient-withdrawal",
   "metadata": {},
   "outputs": [],
   "source": [
    "event_id = {'rock':1, 'paper': 2, 'scissor':3}"
   ]
  },
  {
   "cell_type": "code",
   "execution_count": 9,
   "id": "subject-buyer",
   "metadata": {},
   "outputs": [
    {
     "data": {
      "text/plain": [
       "30"
      ]
     },
     "execution_count": 9,
     "metadata": {},
     "output_type": "execute_result"
    }
   ],
   "source": [
    "len(events[events[:,2]==1])"
   ]
  },
  {
   "cell_type": "code",
   "execution_count": 10,
   "id": "italic-running",
   "metadata": {},
   "outputs": [
    {
     "name": "stdout",
     "output_type": "stream",
     "text": [
      "Channels marked as bad: none\n"
     ]
    }
   ],
   "source": [
    "plt.close()\n",
    "tags = ['relax', 'rock', 'paper', 'scissor']\n",
    "paradigm_info = dict(zip(sorted(ecog['paradigm_info'].unique()), tags))\n",
    "sns.countplot(x='paradigm_info', data=ecog, color='lightblue')\n",
    "plt.show(block=False)"
   ]
  },
  {
   "cell_type": "code",
   "execution_count": 11,
   "id": "after-shanghai",
   "metadata": {},
   "outputs": [],
   "source": [
    "plt.close()\n",
    "fig = mne.viz.plot_events(events, event_id=event_id, sfreq=raw.info['sfreq'],\n",
    "                          first_samp=raw.first_samp, show=False)\n",
    "plt.show(block=False)"
   ]
  },
  {
   "cell_type": "markdown",
   "id": "union-combination",
   "metadata": {},
   "source": [
    "---- Plotting ECOG data"
   ]
  },
  {
   "cell_type": "code",
   "execution_count": 12,
   "id": "subjective-brother",
   "metadata": {},
   "outputs": [],
   "source": [
    "plt.close()\n",
    "raw_ecog = raw.copy().pick_types(emg=False, ecog=True, stim=False)\n",
    "raw_ecog.plot(duration=100, events=events, event_id=event_id, event_color = 'red', color='blue', scalings=dict(ecog=300))\n",
    "# mne_raw.plot()\n",
    "plt.show(block=False)"
   ]
  },
  {
   "cell_type": "markdown",
   "id": "bearing-memory",
   "metadata": {},
   "source": [
    "---- Plotting EMG glove data"
   ]
  },
  {
   "cell_type": "code",
   "execution_count": 13,
   "id": "protecting-tyler",
   "metadata": {},
   "outputs": [
    {
     "name": "stdout",
     "output_type": "stream",
     "text": [
      "Channels marked as bad: none\n"
     ]
    }
   ],
   "source": [
    "plt.close()\n",
    "raw_emg = raw.copy().pick_types(emg=True, ecog=False, stim=False)\n",
    "raw_emg.plot(duration=100, events=events, event_id=event_id, event_color = 'red', color='blue',scalings=dict(emg=1))\n",
    "# raw.plot()\n",
    "plt.show(block=False)"
   ]
  },
  {
   "cell_type": "markdown",
   "id": "sudden-billy",
   "metadata": {},
   "source": [
    "<b> 5. Re-referencing channels to common average"
   ]
  },
  {
   "cell_type": "code",
   "execution_count": 14,
   "id": "robust-emphasis",
   "metadata": {},
   "outputs": [
    {
     "name": "stdout",
     "output_type": "stream",
     "text": [
      "Applying average reference.\n",
      "Applying a custom ECoG reference.\n"
     ]
    }
   ],
   "source": [
    "rereferenced_raw, ref_data = mne.set_eeg_reference(raw_ecog, ref_channels='average',ch_type='ecog',\n",
    "                                                   copy=True)"
   ]
  },
  {
   "cell_type": "code",
   "execution_count": 15,
   "id": "fitted-niagara",
   "metadata": {},
   "outputs": [
    {
     "name": "stdout",
     "output_type": "stream",
     "text": [
      "Channels marked as bad: none\n"
     ]
    },
    {
     "data": {
      "text/plain": [
       "<MNEBrowseFigure size 1520x1000 with 4 Axes>"
      ]
     },
     "execution_count": 15,
     "metadata": {},
     "output_type": "execute_result"
    }
   ],
   "source": [
    "plt.close('all')\n",
    "rereferenced_raw.plot(duration=100, proj=False, scalings=dict(ecog=100),events=events, event_id=event_id,event_color = 'red', color='blue',\n",
    "         n_channels=len(channels))"
   ]
  },
  {
   "cell_type": "markdown",
   "id": "developmental-screen",
   "metadata": {},
   "source": [
    "<b> 6. Sinal pre-processing :</b>  \n",
    "(recursive 6th-order Butterworth, bandwidth: 5 Hz)  up to the 6th harmonic was used to remove interference peaks from the spectrum at integer multiples of the power line frequency."
   ]
  },
  {
   "cell_type": "markdown",
   "id": "outstanding-salem",
   "metadata": {},
   "source": [
    "> <b>A.</b>  Applying notch-filter cascade to remove interference at power line frequency"
   ]
  },
  {
   "cell_type": "code",
   "execution_count": 16,
   "id": "departmental-ceramic",
   "metadata": {},
   "outputs": [
    {
     "name": "stdout",
     "output_type": "stream",
     "text": [
      "Channels marked as bad: none\n",
      "Effective window size : 1.707 (s)\n"
     ]
    },
    {
     "name": "stderr",
     "output_type": "stream",
     "text": [
      "<ipython-input-16-103bef1bb718>:2: RuntimeWarning: Channel locations not available. Disabling spatial colors.\n",
      "  rereferenced_raw.plot_psd(show=False) # Looking for power line frequency (interference peaks)\n"
     ]
    }
   ],
   "source": [
    "plt.close()\n",
    "rereferenced_raw.plot_psd(show=False) # Looking for power line frequency (interference peaks)\n",
    "plt.title('original signal')\n",
    "plt.show(block=False)"
   ]
  },
  {
   "cell_type": "code",
   "execution_count": 17,
   "id": "accredited-greensboro",
   "metadata": {},
   "outputs": [],
   "source": [
    "power_line_peaks = (50, 250, 350, 450, 550)"
   ]
  },
  {
   "cell_type": "code",
   "execution_count": 18,
   "id": "little-princeton",
   "metadata": {},
   "outputs": [
    {
     "name": "stdout",
     "output_type": "stream",
     "text": [
      "Setting up band-stop filter\n",
      "\n",
      "FIR filter parameters\n",
      "---------------------\n",
      "Designing a one-pass, zero-phase, non-causal bandstop filter:\n",
      "- Windowed time-domain design (firwin) method\n",
      "- Hamming window with 0.0194 passband ripple and 53 dB stopband attenuation\n",
      "- Lower transition bandwidth: 0.50 Hz\n",
      "- Upper transition bandwidth: 0.50 Hz\n",
      "- Filter length: 7921 samples (6.601 sec)\n",
      "\n",
      "Effective window size : 1.707 (s)\n"
     ]
    },
    {
     "name": "stderr",
     "output_type": "stream",
     "text": [
      "<ipython-input-18-53c5bb528653>:2: RuntimeWarning: Channel locations not available. Disabling spatial colors.\n",
      "  raw_notch.plot_psd(show=False)\n"
     ]
    }
   ],
   "source": [
    "raw_notch = rereferenced_raw.copy().notch_filter(freqs=power_line_peaks)\n",
    "raw_notch.plot_psd(show=False)\n",
    "plt.title('After removing interference at power line frequency')\n",
    "plt.show(block=False)"
   ]
  },
  {
   "cell_type": "markdown",
   "id": "accomplished-representation",
   "metadata": {},
   "source": [
    "> <b>B.</b> Applying 6th order butterworth recursive filter bandpassed through high gamma frequency (50 Hz to 300 Hz)"
   ]
  },
  {
   "cell_type": "code",
   "execution_count": 19,
   "id": "tender-september",
   "metadata": {},
   "outputs": [
    {
     "name": "stdout",
     "output_type": "stream",
     "text": [
      "\n",
      "IIR filter parameters\n",
      "---------------------\n",
      "Butterworth bandpass zero-phase (two-pass forward and reverse) non-causal filter:\n",
      "- Filter order 24 (effective, after forward-backward)\n",
      "- Cutoffs at 50.00, 300.00 Hz: -6.02, -6.02 dB\n",
      "\n",
      "Filtering raw data in 1 contiguous segment\n",
      "Setting up band-pass filter from 50 - 3e+02 Hz\n",
      "\n"
     ]
    }
   ],
   "source": [
    "from scipy import signal\n",
    "\n",
    "iir_params = dict(order=6, ftype='butter',trans_bandwidth=5)\n",
    "iir_params = mne.filter.construct_iir_filter(iir_params, f_pass=[50. , 300.],\n",
    "                                             sfreq=sampling_freq, btype='bandpass', return_copy=True)\n",
    "\n",
    "# filt = mne.filter.create_filter(raw_notch, sampling_freq, l_freq=50, h_freq=300,\n",
    "#                                 method='iir', iir_params=iir_params)\n",
    "# plot_filter(filt, sampling_freq, freq, gain, 'Butterworth order=8', flim=flim,\n",
    "#             compensate=True)\n",
    "\n",
    "filtered = raw_notch.copy().filter(l_freq=50, h_freq=300,\n",
    "                                   picks='ecog', method='iir', \n",
    "                        iir_params=iir_params)\n",
    "\n",
    "# filtered_ecog = signal.sosfiltfilt(filt['sos'], raw_notch)"
   ]
  },
  {
   "cell_type": "code",
   "execution_count": 20,
   "id": "initial-engineer",
   "metadata": {},
   "outputs": [
    {
     "name": "stdout",
     "output_type": "stream",
     "text": [
      "Effective window size : 1.707 (s)\n"
     ]
    },
    {
     "name": "stderr",
     "output_type": "stream",
     "text": [
      "<ipython-input-20-f18634142e9f>:1: RuntimeWarning: Channel locations not available. Disabling spatial colors.\n",
      "  filtered.plot_psd(average=False,show=False)\n"
     ]
    }
   ],
   "source": [
    "filtered.plot_psd(average=False,show=False)\n",
    "plt.title('filtered signal')\n",
    "plt.show(block=False)"
   ]
  },
  {
   "cell_type": "code",
   "execution_count": 21,
   "id": "committed-holocaust",
   "metadata": {},
   "outputs": [],
   "source": [
    "plt.close('all')\n",
    "filtered.plot(duration=10, proj=False, scalings=dict(ecog=50),\n",
    "              events=events, event_id=event_id,\n",
    "              event_color = 'red', color='blue', n_channels=60)\n",
    "plt.title('filtered  signal')\n",
    "plt.show(block=False)"
   ]
  },
  {
   "cell_type": "markdown",
   "id": "minus-butterfly",
   "metadata": {},
   "source": [
    "> <b>C.</b> Estimating the bandpower via a sliding variance window of 50 ms length, without overlap."
   ]
  },
  {
   "cell_type": "code",
   "execution_count": null,
   "id": "ae2b496c-1820-44c2-996a-a513ddb623c7",
   "metadata": {},
   "outputs": [],
   "source": []
  },
  {
   "cell_type": "code",
   "execution_count": null,
   "id": "183f7056-bc39-4695-aa1f-35fa125a0753",
   "metadata": {},
   "outputs": [],
   "source": []
  },
  {
   "cell_type": "code",
   "execution_count": null,
   "id": "4daf6e7d-67b7-4cd8-8cd1-799cecdbbf86",
   "metadata": {},
   "outputs": [],
   "source": []
  },
  {
   "cell_type": "code",
   "execution_count": 34,
   "id": "interstate-blogger",
   "metadata": {},
   "outputs": [],
   "source": [
    "#help(mne.Epochs)"
   ]
  },
  {
   "cell_type": "code",
   "execution_count": 23,
   "id": "fallen-montreal",
   "metadata": {},
   "outputs": [
    {
     "name": "stdout",
     "output_type": "stream",
     "text": [
      "Not setting metadata\n",
      "Not setting metadata\n",
      "90 matching events found\n",
      "Setting baseline interval to [-0.2, 0.0] sec\n",
      "Applying baseline correction (mode: mean)\n",
      "0 projection items activated\n",
      "Loading data for 90 events and 2641 original time points ...\n",
      "0 bad epochs dropped\n"
     ]
    }
   ],
   "source": [
    "epochs = mne.Epochs(filtered, events, event_id=event_id, tmin=-0.2,tmax =2,preload=True)"
   ]
  },
  {
   "cell_type": "code",
   "execution_count": 24,
   "id": "mobile-satisfaction",
   "metadata": {},
   "outputs": [
    {
     "name": "stdout",
     "output_type": "stream",
     "text": [
      "Channels marked as bad: none\n",
      "Not setting metadata\n",
      "Not setting metadata\n",
      "90 matching events found\n",
      "No baseline correction applied\n",
      "0 projection items activated\n",
      "0 bad epochs dropped\n",
      "combining channels using \"gfp\"\n"
     ]
    }
   ],
   "source": [
    "plt.close()\n",
    "epochs.plot_image(show=False)\n",
    "plt.show(block=False)"
   ]
  },
  {
   "cell_type": "code",
   "execution_count": 25,
   "id": "silent-settle",
   "metadata": {},
   "outputs": [],
   "source": [
    "epochs.load_data()\n",
    "alpha_data = epochs.get_data()\n",
    "\n",
    "corr_matrix = mne.connectivity.envelope_correlation(alpha_data, combine=None)\n",
    "\n",
    "corr_matrix.shape\n",
    "\n",
    "first_event = corr_matrix[0]\n",
    "last_event = corr_matrix[-1]\n",
    "corr_matrices = [first_event, last_event]\n",
    "color_lims = np.percentile(np.array(corr_matrices), [5, 95])\n",
    "titles = ['First event', 'Last event']\n",
    "\n",
    "fig, axes = plt.subplots(nrows=1, ncols=2)\n",
    "fig.suptitle('Correlation Matrices from First and Last epoch')\n",
    "for ci, corr_matrix in enumerate(corr_matrices):\n",
    "    ax = axes[ci]\n",
    "    mpbl = ax.imshow(corr_matrix, clim=color_lims)\n",
    "    ax.set_xlabel(titles[ci])\n",
    "fig.subplots_adjust(right=0.8)\n",
    "# cax = fig.add_axes([0.85, 0.2, 0.025, 0.6])\n",
    "# cbar = fig.colorbar(ax.images[0], cax=cax)\n",
    "# cbar.set_label('Correlation Coefficient')\n",
    "plt.show(block=False)"
   ]
  },
  {
   "cell_type": "code",
   "execution_count": 26,
   "id": "capital-rebate",
   "metadata": {},
   "outputs": [],
   "source": [
    "rock = epochs['rock']\n",
    "paper = epochs['paper']\n",
    "scissor = epochs['scissor']"
   ]
  },
  {
   "cell_type": "code",
   "execution_count": 27,
   "id": "legislative-trinity",
   "metadata": {},
   "outputs": [
    {
     "name": "stdout",
     "output_type": "stream",
     "text": [
      "Not setting metadata\n",
      "Not setting metadata\n",
      "30 matching events found\n",
      "No baseline correction applied\n",
      "0 projection items activated\n",
      "0 bad epochs dropped\n",
      "combining channels using \"gfp\"\n",
      "Not setting metadata\n",
      "Not setting metadata\n",
      "30 matching events found\n",
      "No baseline correction applied\n",
      "0 projection items activated\n",
      "0 bad epochs dropped\n",
      "combining channels using \"gfp\"\n",
      "Not setting metadata\n",
      "Not setting metadata\n",
      "30 matching events found\n",
      "No baseline correction applied\n",
      "0 projection items activated\n",
      "0 bad epochs dropped\n",
      "combining channels using \"gfp\"\n"
     ]
    }
   ],
   "source": [
    "plt.close('all')\n",
    "\n",
    "rock.plot_image(show=False, title='Rock')\n",
    "plt.show(block=False)\n",
    "\n",
    "paper.plot_image(show=False,title='Paper')\n",
    "plt.show(block=False)\n",
    "\n",
    "scissor.plot_image(show=False, title='Scissor')\n",
    "plt.show(block=False)"
   ]
  },
  {
   "cell_type": "code",
   "execution_count": 28,
   "id": "round-ceiling",
   "metadata": {},
   "outputs": [
    {
     "name": "stdout",
     "output_type": "stream",
     "text": [
      "combining channels using \"gfp\"\n",
      "combining channels using \"gfp\"\n",
      "combining channels using \"gfp\"\n"
     ]
    },
    {
     "name": "stderr",
     "output_type": "stream",
     "text": [
      "<ipython-input-28-119400c3abe5>:7: RuntimeWarning: Cannot find channel coordinates in the supplied Evokeds. Not showing channel locations.\n",
      "  legend='upper left', show_sensors='upper right', show=False)\n"
     ]
    }
   ],
   "source": [
    "rock_evoked = rock.average()\n",
    "paper_evoked = paper.average()\n",
    "scissor_evoked = scissor.average()\n",
    "\n",
    "plt.close('all')\n",
    "mne.viz.plot_compare_evokeds(dict(rock=rock_evoked, paper=paper_evoked, scissor = scissor_evoked),\n",
    "                             legend='upper left', show_sensors='upper right', show=False)\n",
    "plt.show(block=False)"
   ]
  },
  {
   "cell_type": "code",
   "execution_count": 29,
   "id": "expected-scope",
   "metadata": {},
   "outputs": [
    {
     "name": "stdout",
     "output_type": "stream",
     "text": [
      "(2641,)\n"
     ]
    }
   ],
   "source": [
    "for event in paper:\n",
    "    print(event[0].shape)\n",
    "    break"
   ]
  },
  {
   "cell_type": "code",
   "execution_count": 30,
   "id": "fuzzy-tolerance",
   "metadata": {},
   "outputs": [
    {
     "name": "stdout",
     "output_type": "stream",
     "text": [
      "(60, 2641)\n"
     ]
    }
   ],
   "source": [
    "for e in rock:\n",
    "    print(e.shape)\n",
    "    break"
   ]
  },
  {
   "cell_type": "code",
   "execution_count": 31,
   "id": "bridal-deployment",
   "metadata": {},
   "outputs": [],
   "source": [
    "df = epochs.to_data_frame()"
   ]
  },
  {
   "cell_type": "code",
   "execution_count": 32,
   "id": "potential-spine",
   "metadata": {},
   "outputs": [
    {
     "name": "stdout",
     "output_type": "stream",
     "text": [
      "<class 'pandas.core.frame.DataFrame'>\n",
      "RangeIndex: 237690 entries, 0 to 237689\n",
      "Data columns (total 63 columns):\n",
      " #   Column     Non-Null Count   Dtype  \n",
      "---  ------     --------------   -----  \n",
      " 0   time       237690 non-null  int64  \n",
      " 1   condition  237690 non-null  object \n",
      " 2   epoch      237690 non-null  int64  \n",
      " 3   CH1        237690 non-null  float64\n",
      " 4   CH2        237690 non-null  float64\n",
      " 5   CH3        237690 non-null  float64\n",
      " 6   CH4        237690 non-null  float64\n",
      " 7   CH5        237690 non-null  float64\n",
      " 8   CH6        237690 non-null  float64\n",
      " 9   CH7        237690 non-null  float64\n",
      " 10  CH8        237690 non-null  float64\n",
      " 11  CH9        237690 non-null  float64\n",
      " 12  CH10       237690 non-null  float64\n",
      " 13  CH11       237690 non-null  float64\n",
      " 14  CH12       237690 non-null  float64\n",
      " 15  CH13       237690 non-null  float64\n",
      " 16  CH14       237690 non-null  float64\n",
      " 17  CH15       237690 non-null  float64\n",
      " 18  CH16       237690 non-null  float64\n",
      " 19  CH17       237690 non-null  float64\n",
      " 20  CH18       237690 non-null  float64\n",
      " 21  CH19       237690 non-null  float64\n",
      " 22  CH20       237690 non-null  float64\n",
      " 23  CH21       237690 non-null  float64\n",
      " 24  CH22       237690 non-null  float64\n",
      " 25  CH23       237690 non-null  float64\n",
      " 26  CH24       237690 non-null  float64\n",
      " 27  CH25       237690 non-null  float64\n",
      " 28  CH26       237690 non-null  float64\n",
      " 29  CH27       237690 non-null  float64\n",
      " 30  CH28       237690 non-null  float64\n",
      " 31  CH29       237690 non-null  float64\n",
      " 32  CH30       237690 non-null  float64\n",
      " 33  CH31       237690 non-null  float64\n",
      " 34  CH32       237690 non-null  float64\n",
      " 35  CH33       237690 non-null  float64\n",
      " 36  CH34       237690 non-null  float64\n",
      " 37  CH35       237690 non-null  float64\n",
      " 38  CH36       237690 non-null  float64\n",
      " 39  CH37       237690 non-null  float64\n",
      " 40  CH38       237690 non-null  float64\n",
      " 41  CH39       237690 non-null  float64\n",
      " 42  CH40       237690 non-null  float64\n",
      " 43  CH41       237690 non-null  float64\n",
      " 44  CH42       237690 non-null  float64\n",
      " 45  CH43       237690 non-null  float64\n",
      " 46  CH44       237690 non-null  float64\n",
      " 47  CH45       237690 non-null  float64\n",
      " 48  CH46       237690 non-null  float64\n",
      " 49  CH47       237690 non-null  float64\n",
      " 50  CH48       237690 non-null  float64\n",
      " 51  CH49       237690 non-null  float64\n",
      " 52  CH50       237690 non-null  float64\n",
      " 53  CH51       237690 non-null  float64\n",
      " 54  CH52       237690 non-null  float64\n",
      " 55  CH53       237690 non-null  float64\n",
      " 56  CH54       237690 non-null  float64\n",
      " 57  CH55       237690 non-null  float64\n",
      " 58  CH56       237690 non-null  float64\n",
      " 59  CH57       237690 non-null  float64\n",
      " 60  CH58       237690 non-null  float64\n",
      " 61  CH59       237690 non-null  float64\n",
      " 62  CH60       237690 non-null  float64\n",
      "dtypes: float64(60), int64(2), object(1)\n",
      "memory usage: 114.2+ MB\n"
     ]
    }
   ],
   "source": [
    "df.info()"
   ]
  },
  {
   "cell_type": "code",
   "execution_count": 33,
   "id": "adjusted-poland",
   "metadata": {},
   "outputs": [
    {
     "data": {
      "text/html": [
       "<div>\n",
       "<style scoped>\n",
       "    .dataframe tbody tr th:only-of-type {\n",
       "        vertical-align: middle;\n",
       "    }\n",
       "\n",
       "    .dataframe tbody tr th {\n",
       "        vertical-align: top;\n",
       "    }\n",
       "\n",
       "    .dataframe thead th {\n",
       "        text-align: right;\n",
       "    }\n",
       "</style>\n",
       "<table border=\"1\" class=\"dataframe\">\n",
       "  <thead>\n",
       "    <tr style=\"text-align: right;\">\n",
       "      <th></th>\n",
       "      <th>time</th>\n",
       "      <th>condition</th>\n",
       "      <th>epoch</th>\n",
       "      <th>CH1</th>\n",
       "      <th>CH2</th>\n",
       "      <th>CH3</th>\n",
       "      <th>CH4</th>\n",
       "      <th>CH5</th>\n",
       "      <th>CH6</th>\n",
       "      <th>CH7</th>\n",
       "      <th>...</th>\n",
       "      <th>CH51</th>\n",
       "      <th>CH52</th>\n",
       "      <th>CH53</th>\n",
       "      <th>CH54</th>\n",
       "      <th>CH55</th>\n",
       "      <th>CH56</th>\n",
       "      <th>CH57</th>\n",
       "      <th>CH58</th>\n",
       "      <th>CH59</th>\n",
       "      <th>CH60</th>\n",
       "    </tr>\n",
       "  </thead>\n",
       "  <tbody>\n",
       "    <tr>\n",
       "      <th>0</th>\n",
       "      <td>-200</td>\n",
       "      <td>scissor</td>\n",
       "      <td>0</td>\n",
       "      <td>1.570628e+06</td>\n",
       "      <td>-769415.141292</td>\n",
       "      <td>-7.760798e+05</td>\n",
       "      <td>-3.786215e+06</td>\n",
       "      <td>-9.434679e+05</td>\n",
       "      <td>7.377976e+05</td>\n",
       "      <td>-9.163030e+06</td>\n",
       "      <td>...</td>\n",
       "      <td>-8.793391e+05</td>\n",
       "      <td>7.553653e+05</td>\n",
       "      <td>1.740024e+06</td>\n",
       "      <td>3.695847e+05</td>\n",
       "      <td>-6.738478e+06</td>\n",
       "      <td>4.544353e+06</td>\n",
       "      <td>1.483734e+06</td>\n",
       "      <td>2.357967e+06</td>\n",
       "      <td>1.955420e+06</td>\n",
       "      <td>1.155790e+06</td>\n",
       "    </tr>\n",
       "    <tr>\n",
       "      <th>1</th>\n",
       "      <td>-199</td>\n",
       "      <td>scissor</td>\n",
       "      <td>0</td>\n",
       "      <td>1.026301e+06</td>\n",
       "      <td>371.247055</td>\n",
       "      <td>1.944913e+05</td>\n",
       "      <td>-1.095369e+06</td>\n",
       "      <td>-2.137739e+05</td>\n",
       "      <td>-1.363444e+06</td>\n",
       "      <td>-6.495378e+06</td>\n",
       "      <td>...</td>\n",
       "      <td>-1.446691e+06</td>\n",
       "      <td>-9.835938e+05</td>\n",
       "      <td>-9.992447e+05</td>\n",
       "      <td>-4.194699e+06</td>\n",
       "      <td>-1.709372e+06</td>\n",
       "      <td>9.157686e+05</td>\n",
       "      <td>-1.552966e+05</td>\n",
       "      <td>2.522642e+06</td>\n",
       "      <td>2.763560e+06</td>\n",
       "      <td>1.342575e+06</td>\n",
       "    </tr>\n",
       "    <tr>\n",
       "      <th>2</th>\n",
       "      <td>-198</td>\n",
       "      <td>scissor</td>\n",
       "      <td>0</td>\n",
       "      <td>7.941045e+04</td>\n",
       "      <td>-13825.732957</td>\n",
       "      <td>1.414168e+06</td>\n",
       "      <td>2.144395e+06</td>\n",
       "      <td>1.447105e+06</td>\n",
       "      <td>-7.908181e+05</td>\n",
       "      <td>-3.368648e+06</td>\n",
       "      <td>...</td>\n",
       "      <td>-1.141727e+06</td>\n",
       "      <td>-2.994925e+06</td>\n",
       "      <td>-3.499307e+06</td>\n",
       "      <td>-6.941603e+06</td>\n",
       "      <td>4.459067e+06</td>\n",
       "      <td>-3.171257e+06</td>\n",
       "      <td>-2.690478e+06</td>\n",
       "      <td>1.123472e+06</td>\n",
       "      <td>2.126757e+06</td>\n",
       "      <td>1.124693e+06</td>\n",
       "    </tr>\n",
       "    <tr>\n",
       "      <th>3</th>\n",
       "      <td>-198</td>\n",
       "      <td>scissor</td>\n",
       "      <td>0</td>\n",
       "      <td>-5.013333e+05</td>\n",
       "      <td>-677346.077779</td>\n",
       "      <td>1.343599e+06</td>\n",
       "      <td>3.756443e+06</td>\n",
       "      <td>3.173911e+06</td>\n",
       "      <td>1.255666e+06</td>\n",
       "      <td>2.905267e+05</td>\n",
       "      <td>...</td>\n",
       "      <td>3.430999e+05</td>\n",
       "      <td>-4.161373e+06</td>\n",
       "      <td>-5.136841e+06</td>\n",
       "      <td>-7.661129e+06</td>\n",
       "      <td>8.174312e+06</td>\n",
       "      <td>-5.256110e+06</td>\n",
       "      <td>-4.649741e+06</td>\n",
       "      <td>7.563953e+04</td>\n",
       "      <td>1.545301e+06</td>\n",
       "      <td>1.349787e+06</td>\n",
       "    </tr>\n",
       "    <tr>\n",
       "      <th>4</th>\n",
       "      <td>-197</td>\n",
       "      <td>scissor</td>\n",
       "      <td>0</td>\n",
       "      <td>-2.130147e+06</td>\n",
       "      <td>-804821.948564</td>\n",
       "      <td>4.301506e+05</td>\n",
       "      <td>3.729284e+06</td>\n",
       "      <td>3.885446e+06</td>\n",
       "      <td>2.711634e+06</td>\n",
       "      <td>4.174270e+06</td>\n",
       "      <td>...</td>\n",
       "      <td>2.605582e+06</td>\n",
       "      <td>-4.063870e+06</td>\n",
       "      <td>-5.853666e+06</td>\n",
       "      <td>-7.104946e+06</td>\n",
       "      <td>8.485982e+06</td>\n",
       "      <td>-4.425439e+06</td>\n",
       "      <td>-4.604115e+06</td>\n",
       "      <td>6.290343e+05</td>\n",
       "      <td>1.833742e+06</td>\n",
       "      <td>2.086933e+06</td>\n",
       "    </tr>\n",
       "  </tbody>\n",
       "</table>\n",
       "<p>5 rows × 63 columns</p>\n",
       "</div>"
      ],
      "text/plain": [
       "   time condition  epoch           CH1            CH2           CH3  \\\n",
       "0  -200   scissor      0  1.570628e+06 -769415.141292 -7.760798e+05   \n",
       "1  -199   scissor      0  1.026301e+06     371.247055  1.944913e+05   \n",
       "2  -198   scissor      0  7.941045e+04  -13825.732957  1.414168e+06   \n",
       "3  -198   scissor      0 -5.013333e+05 -677346.077779  1.343599e+06   \n",
       "4  -197   scissor      0 -2.130147e+06 -804821.948564  4.301506e+05   \n",
       "\n",
       "            CH4           CH5           CH6           CH7  ...          CH51  \\\n",
       "0 -3.786215e+06 -9.434679e+05  7.377976e+05 -9.163030e+06  ... -8.793391e+05   \n",
       "1 -1.095369e+06 -2.137739e+05 -1.363444e+06 -6.495378e+06  ... -1.446691e+06   \n",
       "2  2.144395e+06  1.447105e+06 -7.908181e+05 -3.368648e+06  ... -1.141727e+06   \n",
       "3  3.756443e+06  3.173911e+06  1.255666e+06  2.905267e+05  ...  3.430999e+05   \n",
       "4  3.729284e+06  3.885446e+06  2.711634e+06  4.174270e+06  ...  2.605582e+06   \n",
       "\n",
       "           CH52          CH53          CH54          CH55          CH56  \\\n",
       "0  7.553653e+05  1.740024e+06  3.695847e+05 -6.738478e+06  4.544353e+06   \n",
       "1 -9.835938e+05 -9.992447e+05 -4.194699e+06 -1.709372e+06  9.157686e+05   \n",
       "2 -2.994925e+06 -3.499307e+06 -6.941603e+06  4.459067e+06 -3.171257e+06   \n",
       "3 -4.161373e+06 -5.136841e+06 -7.661129e+06  8.174312e+06 -5.256110e+06   \n",
       "4 -4.063870e+06 -5.853666e+06 -7.104946e+06  8.485982e+06 -4.425439e+06   \n",
       "\n",
       "           CH57          CH58          CH59          CH60  \n",
       "0  1.483734e+06  2.357967e+06  1.955420e+06  1.155790e+06  \n",
       "1 -1.552966e+05  2.522642e+06  2.763560e+06  1.342575e+06  \n",
       "2 -2.690478e+06  1.123472e+06  2.126757e+06  1.124693e+06  \n",
       "3 -4.649741e+06  7.563953e+04  1.545301e+06  1.349787e+06  \n",
       "4 -4.604115e+06  6.290343e+05  1.833742e+06  2.086933e+06  \n",
       "\n",
       "[5 rows x 63 columns]"
      ]
     },
     "execution_count": 33,
     "metadata": {},
     "output_type": "execute_result"
    }
   ],
   "source": [
    "df.head()"
   ]
  },
  {
   "cell_type": "code",
   "execution_count": null,
   "id": "expressed-robin",
   "metadata": {},
   "outputs": [],
   "source": []
  }
 ],
 "metadata": {
  "kernelspec": {
   "display_name": "Python 3",
   "language": "python",
   "name": "python3"
  },
  "language_info": {
   "codemirror_mode": {
    "name": "ipython",
    "version": 3
   },
   "file_extension": ".py",
   "mimetype": "text/x-python",
   "name": "python",
   "nbconvert_exporter": "python",
   "pygments_lexer": "ipython3",
   "version": "3.7.10"
  }
 },
 "nbformat": 4,
 "nbformat_minor": 5
}
